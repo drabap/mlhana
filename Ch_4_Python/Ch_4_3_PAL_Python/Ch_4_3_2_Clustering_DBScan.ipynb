{
 "cells": [
  {
   "cell_type": "markdown",
   "id": "26b70a40-a853-4c4e-ac74-aaa3ec47a169",
   "metadata": {},
   "source": [
    "# Clustering-Analysen"
   ]
  },
  {
   "cell_type": "markdown",
   "id": "6644f0cb-d4a3-4ae2-8811-5d38ff8ba35d",
   "metadata": {},
   "source": [
    "- DBScan (PAL) auf Mall Data anwenden\n",
    "-- Vorbereitung: Selektieren und Visualisieren von Mall Data (Tabelle MALL_CUSTOMERS)\n",
    "-- Anwendung von DBSCAN\n",
    "-- Auswertung mit Streudiagramm und Box-Plot\n",
    "- Verwendung von KMeans\n",
    "-- Ergänzung: Variable Clusterzahl bei KMeans und Visualisierung von KMeans-Ergebnis\n",
    "-- Zusatz: Cluster-Modelle speichern zur späteren Verwendung\n",
    "\n"
   ]
  },
  {
   "cell_type": "markdown",
   "id": "every-working",
   "metadata": {},
   "source": [
    "## Vorbereitung"
   ]
  },
  {
   "cell_type": "code",
   "execution_count": null,
   "id": "fuzzy-alias",
   "metadata": {},
   "outputs": [],
   "source": [
    "# MALL_CUSTOMERS selektieren\n",
    "from hana_ml import dataframe\n",
    "\n",
    "conn = dataframe.ConnectionContext(KEY = 'DEV')\n",
    "\n",
    "g_df_mall_cust = conn.table(table = 'MALL_CUSTOMERS',\n",
    "                            schema = 'ML_DATA')\n",
    "\n",
    "# df_mall_cust.describe().collect()\n",
    "# df_mall_cust.head(20).collect()"
   ]
  },
  {
   "cell_type": "code",
   "execution_count": null,
   "id": "common-portsmouth",
   "metadata": {},
   "outputs": [],
   "source": [
    "# Scatter Plot Age vs. SpendingScore\n",
    "from hana_ml.visualizers.eda import EDAVisualizer\n",
    "import matplotlib.pyplot as plt\n",
    "\n",
    "fig_scatter = plt.figure(figsize=(18,6))\n",
    "\n",
    "ax1 = fig_scatter.add_subplot(121)\n",
    "eda = EDAVisualizer(ax1)\n",
    "\n",
    "# Color maps:\n",
    "# Greys: Graustufen\n",
    "# Reds, Blues\n",
    "\n",
    "ax1, scatter_data = eda.scatter_plot(\n",
    "                                  data = g_df_mall_cust, \n",
    "                                  x = 'AGE', \n",
    "                                  y = 'SPENDINGSCORE', \n",
    "                                  x_bins = 10, \n",
    "                                  y_bins = 10,\n",
    "                                  debrief = True, \n",
    "                                  cmap = 'Blues')\n",
    "\n",
    "# Kompression bei Scatter Plot: 10 bins in X und Y = 100 Datenpunkte. Bei 10000 Kunden bereits Faktor 100"
   ]
  },
  {
   "cell_type": "markdown",
   "id": "hairy-associate",
   "metadata": {},
   "source": [
    "## Clustering mit DBScan"
   ]
  },
  {
   "cell_type": "code",
   "execution_count": null,
   "id": "phantom-alabama",
   "metadata": {},
   "outputs": [],
   "source": [
    "# Aufruf von DBScan und Ausgabe der Cluster\n",
    "from hana_ml.algorithms.pal.clustering import DBSCAN\n",
    "\n",
    "dbscan = DBSCAN(minpts = 5,\n",
    "                eps = 10,\n",
    "                metric = 'euclidean')\n",
    "\n",
    "# Ergebnis des Clustering\n",
    "g_df_cluster_assignment = dbscan.fit_predict( \n",
    "                                        data = g_df_mall_cust,\n",
    "                                        key = 'CUSTOMERID' )\n",
    "# Cluster anzeigen:\n",
    "# Anzahl Sätze pro Cluster\n",
    "l_df_cluster_agg = g_df_cluster_assignment.agg([\n",
    "                       ('count','CUSTOMERID','COUNT_CUSTOMER')\n",
    "                       ],\n",
    "                       group_by = ['CLUSTER_ID'])\n",
    "\n",
    "l_df_cluster_agg.sort(['CLUSTER_ID']).collect()"
   ]
  },
  {
   "cell_type": "code",
   "execution_count": null,
   "id": "accredited-somerset",
   "metadata": {},
   "outputs": [],
   "source": [
    "# Join zwischen Cluster-Zuweisung und Kundendaten\n",
    "l_df_cluster_1 = g_df_cluster_assignment.rename_columns({'CUSTOMERID' : 'CL_CUSTID'})\n",
    "\n",
    "l_df_cust_w_cluster = g_df_mall_cust.alias('CUST').join(\n",
    "                                          other = l_df_cluster_1.alias('CLST'),\n",
    "                                          condition = 'CUSTOMERID = CL_CUSTID')\n",
    "\n",
    "# Entferne überflüssige Spalte CL_CUSTID\n",
    "g_df_cust_w_cluster = l_df_cust_w_cluster.drop('CL_CUSTID')\n",
    "\n",
    "g_df_cust_w_cluster.head(20).collect()"
   ]
  },
  {
   "cell_type": "markdown",
   "id": "65edb13b-b02c-4ea2-8350-94c2a844e8a2",
   "metadata": {},
   "source": [
    "### Visualisieren der Ergebnisse"
   ]
  },
  {
   "cell_type": "code",
   "execution_count": null,
   "id": "superior-reset",
   "metadata": {},
   "outputs": [],
   "source": [
    "# Streudiagramm der Kunden nach Cluster\n",
    "\n",
    "# Filtern auf Punkte in Cluster, dann umwandeln in Pandas\n",
    "l_pd_frame = g_df_cust_w_cluster.filter(\n",
    "    \"CLUSTER_ID >= 0\").collect()\n",
    "\n",
    "l_pd_frame[\"CLUSTER_ID\"] = l_pd_frame[\"CLUSTER_ID\"].astype('category')\n",
    "l_pd_frame[\"CLUSTER_ID\"] = l_pd_frame[\"CLUSTER_ID\"].cat.codes\n",
    "\n",
    "# Scatter Plot\n",
    "l_pd_frame.plot(kind = \"scatter\", \n",
    "                x = \"AGE\", \n",
    "                y = \"SPENDINGSCORE\",  \n",
    "                c = \"CLUSTER_ID\",\n",
    "                cmap = 'tab20c')\n",
    "                 \n"
   ]
  },
  {
   "cell_type": "code",
   "execution_count": null,
   "id": "turkish-assist",
   "metadata": {},
   "outputs": [],
   "source": [
    "# Boxplot für SPENDINGSCORE je Cluster\n",
    "f = plt.figure(figsize=(18,6))\n",
    "\n",
    "ax1 = f.add_subplot(121)\n",
    "eda = EDAVisualizer(ax1)\n",
    "\n",
    "l_df_cust_2 = g_df_cust_w_cluster.cast('CLUSTER_ID',\n",
    "                                     'NVARCHAR(2)')\n",
    "\n",
    "ax, bar_data = eda.box_plot(data = l_df_cust_2,\n",
    "                            column = 'SPENDINGSCORE',\n",
    "                            groupby = 'CLUSTER_ID',\n",
    "                            outliers = True)"
   ]
  },
  {
   "cell_type": "markdown",
   "id": "incident-engagement",
   "metadata": {},
   "source": [
    "## Clustering mit KMeans"
   ]
  },
  {
   "cell_type": "code",
   "execution_count": null,
   "id": "sharp-democracy",
   "metadata": {},
   "outputs": [],
   "source": [
    "# Clustering mit K-Means \n",
    "from hana_ml.algorithms.pal.clustering import KMeans\n",
    "\n",
    "kmeans = KMeans(n_clusters = 4,\n",
    "                init = 'first_k',\n",
    "                max_iter = 100,\n",
    "                distance_level = 'Euclidean',\n",
    "                accelerated = True,\n",
    "                category_weights = 0.5)\n",
    "\n",
    "g_df_kmeans_assignment = kmeans.fit_predict(\n",
    "                                          data = g_df_mall_cust,\n",
    "                                          key = 'CUSTOMERID' )\n",
    "# Cluster.Zuweisung ausgeben\n",
    "g_df_kmeans_assignment.collect()"
   ]
  },
  {
   "cell_type": "code",
   "execution_count": null,
   "id": "pointed-exemption",
   "metadata": {},
   "outputs": [],
   "source": [
    "# Zentrumspunkte der Cluster\n",
    "kmeans.cluster_centers_.collect()"
   ]
  },
  {
   "cell_type": "markdown",
   "id": "9f665b91-3b6c-4b9b-bc84-109fd8945b5e",
   "metadata": {},
   "source": [
    "## Predict: Clusterzuweisung für neue Daten"
   ]
  },
  {
   "cell_type": "code",
   "execution_count": null,
   "id": "eastern-assist",
   "metadata": {},
   "outputs": [],
   "source": [
    "# Mit Predict das Cluster-Modell auf neue Daten anwenden \n",
    "# Beispiel für DBScan \n",
    "l_df_subset = g_df_mall_cust.head(10)\n",
    "\n",
    "l_df_subset_cluster = dbscan.predict(data = l_df_subset,\n",
    "                                     key = 'CUSTOMERID')\n",
    "l_df_subset_cluster.collect()"
   ]
  },
  {
   "cell_type": "code",
   "execution_count": null,
   "id": "detected-austria",
   "metadata": {},
   "outputs": [],
   "source": [
    "# Ergänzung: Predict mit K-Means\n",
    "l_df_subset = g_df_mall_cust.head(10)\n",
    "\n",
    "l_df_subset_cluster = kmeans.predict(data = l_df_subset,\n",
    "                                     key = 'CUSTOMERID')\n",
    "l_df_subset_cluster.collect()"
   ]
  },
  {
   "cell_type": "markdown",
   "id": "concrete-circular",
   "metadata": {},
   "source": [
    "## Ergänzung: Variable Clusterzahl bei KMeans und Visualisierung der KMeans-Cluster\n",
    "- Aufruf von KMeans mit einem Intervall der erlaubten Clusterzahl\n",
    "- Erzeugen von Streudiagramm und Box-Plot für KMeans-Ergebnis (analog zu Vorgehen im Buch bei DBSCAN)"
   ]
  },
  {
   "cell_type": "code",
   "execution_count": null,
   "id": "foreign-honey",
   "metadata": {},
   "outputs": [],
   "source": [
    "# Ergänzung: KMeans mit variabler Clusterzahl\n",
    "kmeans_var = KMeans(n_clusters_min = 2,\n",
    "                    n_clusters_max = 10,   \n",
    "                    init = 'first_k',\n",
    "                    max_iter = 100,\n",
    "                    distance_level = 'Euclidean',\n",
    "                    accelerated = True,\n",
    "                    category_weights = 0.5)\n",
    "\n",
    "g_df_kmeans_assignment_var = kmeans_var.fit_predict(\n",
    "                                            data = g_df_mall_cust,\n",
    "                                            key = 'CUSTOMERID')\n",
    "# Cluster.Zuweisung ausgeben\n",
    "kmeans_var.cluster_centers_.collect()"
   ]
  },
  {
   "cell_type": "code",
   "execution_count": null,
   "id": "infinite-magic",
   "metadata": {},
   "outputs": [],
   "source": [
    "# Ergänzung K-Means\n",
    "# JOIN zwischen Clusterzuweisung und df_mall_cust\n",
    "# Verwendung der Zuweisung aus Durchlauf mit variabler Clusterzahl\n",
    "l_df_kmeans_assignment_1 = g_df_kmeans_assignment_var.rename_columns({'CUSTOMERID': 'CUSTOMERID_CLST'})\n",
    "\n",
    "\n",
    "l_df_cust_w_cluster = g_df_mall_cust.alias('CUST').join(other = l_df_kmeans_assignment_1.alias('CLST'),\n",
    "                                          condition = 'CUSTOMERID = CUSTOMERID_CLST' )\n",
    "\n",
    "# Remove redundant column CUSTOMERID_CLST\n",
    "g_df_cust_w_kmeans = l_df_cust_w_cluster.drop('CUSTOMERID_CLST')\n",
    "\n",
    "g_df_cust_w_kmeans.head(20).collect()"
   ]
  },
  {
   "cell_type": "code",
   "execution_count": null,
   "id": "informal-smile",
   "metadata": {},
   "outputs": [],
   "source": [
    "# Ergänzung K-Means\n",
    "# Streudiagramm mit Pandas\n",
    "l_pd_frame = g_df_cust_w_kmeans.collect()\n",
    "\n",
    "l_pd_frame[\"CLUSTER_ID\"] = l_pd_frame[\"CLUSTER_ID\"].astype('category')\n",
    "l_pd_frame[\"CLUSTER_ID\"] = l_pd_frame[\"CLUSTER_ID\"].cat.codes\n",
    "\n",
    "# Scatter Plot\n",
    "l_pd_frame.plot( kind = \"scatter\", x = \"AGE\", y = \"SPENDINGSCORE\",\n",
    "                                   c = \"CLUSTER_ID\", cmap = 'Dark2' )"
   ]
  },
  {
   "cell_type": "code",
   "execution_count": null,
   "id": "nervous-jamaica",
   "metadata": {},
   "outputs": [],
   "source": [
    "# Ergänzung K-Means\n",
    "# Verteilung Boxplot je nach Cluster\n",
    "\n",
    "# Boxplot für die Variable AGE\n",
    "\n",
    "f = plt.figure(figsize=(18,6))\n",
    "\n",
    "ax1 = f.add_subplot(121)\n",
    "eda = EDAVisualizer(ax1)\n",
    "\n",
    "l_df_cust_w_kmeans = g_df_cust_w_kmeans.cast('CLUSTER_ID','NVARCHAR(2)')\n",
    "\n",
    "ax, bar_data = eda.box_plot(data = l_df_cust_w_kmeans,\n",
    "                            column = 'SPENDINGSCORE',\n",
    "                            groupby = 'CLUSTER_ID',\n",
    "                            outliers = True)"
   ]
  },
  {
   "cell_type": "markdown",
   "id": "specific-scene",
   "metadata": {},
   "source": [
    "## Zusatz: Speichern der Cluster-Modelle\n",
    "- Dieser Code basiert auf dem Vorgehen, das in Abschnitt 4.3.3 \"Modelle speichern und wiederverwenden\" dargestellt wird.\n",
    "- Lesen Sie zunächst die Schritte im Buch durch."
   ]
  },
  {
   "cell_type": "code",
   "execution_count": null,
   "id": "blessed-westminster",
   "metadata": {},
   "outputs": [],
   "source": [
    "from hana_ml.model_storage import ModelStorage, ModelStorageError\n",
    "MODEL_SCHEMA = 'ML_MODEL' # HANA-Schema in dem die erzeugten Modelle gespeichert werden\n",
    "\n",
    "model_storage = ModelStorage(connection_context = conn, schema = MODEL_SCHEMA)\n",
    "\n",
    "# Voraussetzung: Das Clustering mit DBSCAN (weiter oben) wurde ausgeführt\n",
    "dbscan.name = 'DBScan Mall 1'\n",
    "model_storage.save_model(model = dbscan, if_exists = 'upgrade')"
   ]
  },
  {
   "cell_type": "code",
   "execution_count": null,
   "id": "improved-ecology",
   "metadata": {},
   "outputs": [],
   "source": [
    "# Ausgabe der gespeicherten Modelle\n",
    "model_storage.list_models()"
   ]
  },
  {
   "cell_type": "code",
   "execution_count": null,
   "id": "isolated-slovenia",
   "metadata": {},
   "outputs": [],
   "source": [
    "# Laden des Modells und Ausführen der Clusterzuweisung mit predict\n",
    "# Laden von bestimmter Version\n",
    "dbscan_loaded = model_storage.load_model(name = 'DBScan Mall 1', version = 4)\n",
    "# Alternativ: Immer die neueste Version nehmen:\n",
    "# dbscan_loaded = model_storage.load_model( name = 'DBScan Mall 1' )\n",
    "\n",
    "print(dbscan_loaded)\n",
    "\n",
    "# Predict anwenden (=> führt die Clusterzuweisung durch)\n",
    "l_df_subset = g_df_mall_cust.head(30)\n",
    "\n",
    "l_df_subset_cluster = dbscan_loaded.predict( data = l_df_subset,\n",
    "                                           key = 'CUSTOMERID')\n",
    "\n",
    "l_df_subset_cluster.collect()\n"
   ]
  },
  {
   "cell_type": "code",
   "execution_count": null,
   "id": "26ec4632-32f0-4e35-8477-4eef41417f56",
   "metadata": {},
   "outputs": [],
   "source": []
  }
 ],
 "metadata": {
  "kernelspec": {
   "display_name": "Python 3 (ipykernel)",
   "language": "python",
   "name": "python3"
  },
  "language_info": {
   "codemirror_mode": {
    "name": "ipython",
    "version": 3
   },
   "file_extension": ".py",
   "mimetype": "text/x-python",
   "name": "python",
   "nbconvert_exporter": "python",
   "pygments_lexer": "ipython3",
   "version": "3.8.13"
  }
 },
 "nbformat": 4,
 "nbformat_minor": 5
}
