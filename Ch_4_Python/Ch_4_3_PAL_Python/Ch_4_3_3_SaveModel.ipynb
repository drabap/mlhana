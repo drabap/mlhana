{
 "cells": [
  {
   "cell_type": "markdown",
   "id": "f528b3ca-f8d8-4cdd-9267-c2ff1291e1ba",
   "metadata": {},
   "source": [
    "# Speichern von Modellen\n",
    "* Vorbereitung: Random Forest trainieren\n",
    "* Modell speichern\n",
    " * Ergänzung Metriken zum Modell speichern\n",
    "* Modell laden und zur Prognose verwenden\n",
    "* Aufräumarbeiten"
   ]
  },
  {
   "cell_type": "markdown",
   "id": "under-marks",
   "metadata": {},
   "source": [
    "## Vorbereitung: Random Forest trainieren"
   ]
  },
  {
   "cell_type": "code",
   "execution_count": null,
   "id": "focal-repeat",
   "metadata": {},
   "outputs": [],
   "source": [
    "# Wiederholung: RandomForest trainieren (Übernahme aus Ch4_Python_Sub_3_Section1_PAL_RandomFor_NN)\n",
    "# Übernahme Listings: 4.27 Verbindung zur HANA, 4.28 Daten partitionieren, 4.29 Trainieren des RandomForest\n",
    "from hana_ml import dataframe\n",
    "\n",
    "connection = dataframe.ConnectionContext(KEY = 'DEV')\n",
    "\n",
    "# CHURN laden\n",
    "g_df_churn = connection.table('CHURN', schema = 'ML_DATA')\n",
    "\n",
    "g_df_churn.head(20).collect()\n",
    "\n",
    "#  Daten partitionieren\n",
    "from hana_ml.algorithms.pal import partition\n",
    "\n",
    "g_df_train, g_df_test, g_df_valid = partition.train_test_val_split(\n",
    "                                                    g_df_churn,\n",
    "                                                    partition_method = 'stratified',\n",
    "                                                    training_percentage = 0.6, validation_percentage = 0.0,\n",
    "                                                    testing_percentage = 0.4,\n",
    "                                                    stratified_column = 'EXITED')\n",
    "\n",
    "# Anzahl der Kündigungen in Trainingsmenge\n",
    "# train.agg([('count','CUSTOMERID','count_customer')] , group_by = ['EXITED']).collect()\n",
    "# test.agg([('count','CUSTOMERID','count_customer')] , group_by = ['EXITED']).collect()\n",
    "\n",
    "# Trainieren des Random Forest\n",
    "from hana_ml.algorithms.pal.trees import *\n",
    "rfc = RandomForestClassifier(n_estimators = 10,\n",
    "                             max_features = 10, random_state = 2,\n",
    "                             split_threshold = 0.00001,\n",
    "                             categorical_variable = ['EXITED'], \n",
    "                             strata = [(0,0.5),(1,0.5)], \n",
    "                             thread_ratio = 1.0)\n",
    "\n",
    "g_features = ['CREDITSCORE','GEOGRAPHY','GENDER','AGE','TENURE','BALANCE','NUMOFPRODUCTS','HASCRCARD','ISACTIVEMEMBER','ESTIMATEDSALARY']\n",
    "\n",
    "rfc.fit(data = g_df_train,\n",
    "        key = 'CUSTOMERID',\n",
    "        features = g_features, \n",
    "        label = 'EXITED')\n",
    "\n",
    "rfc.model_.collect()"
   ]
  },
  {
   "cell_type": "markdown",
   "id": "9c65ea1b",
   "metadata": {},
   "source": [
    "### Zusatz: Berechnen der Metriken auf Basis der Testmenge"
   ]
  },
  {
   "cell_type": "markdown",
   "id": "b2e148a1",
   "metadata": {},
   "source": [
    "* Berechnet die Metriken des Modells, um diese ebenso zu speichern"
   ]
  },
  {
   "cell_type": "code",
   "execution_count": null,
   "id": "86e01aec",
   "metadata": {},
   "outputs": [],
   "source": [
    "# Prognosebildung mit oben trainiertem Modell rfc und Classification Report berechnen mit Testmenge\n",
    "\n",
    "# Prognose durchführen und Verknüpfen mit IST\n",
    "# Übernommen aus Ch_4_3_1_PAL_RandomFor_NN\n",
    "l_df_predict_test = rfc.predict(data = g_df_test,\n",
    "                                  features = g_features,\n",
    "                                  key = 'CUSTOMERID')\n",
    "\n",
    "# Verknüpfen von Prognoseergebnis und Testmenge\n",
    "l_col_select = [('P.CUSTOMERID','CUSTOMERID'), ('P.SCORE','SCORE'), ('A.EXITED','EXITED')]\n",
    "\n",
    "l_df_compare = l_df_predict_test.alias('P').join( other = g_df_test.alias('A'),\n",
    "                                                  condition = 'P.CUSTOMERID = A.CUSTOMERID',\n",
    "                                                  select = l_col_select)\n",
    "\n",
    "l_df_compare = l_df_compare.cast('SCORE', 'INT').rename_columns({'SCORE': 'PREDICTED'})\n",
    "\n",
    "# Berechnung der Konfusionsmatrix und Erfolgskennzahlen\n",
    "from hana_ml.algorithms.pal.metrics import confusion_matrix\n",
    "\n",
    "(l_df_confusion_matrix, l_df_classification_report)  = confusion_matrix( \n",
    "                                                         data = l_df_compare, \n",
    "                                                         key = 'CUSTOMERID',\n",
    "                                                         label_true = 'EXITED',\n",
    "                                                         label_pred = 'PREDICTED')\n",
    "\n",
    "# Ende Übernommen aus Ch_4_3_1_PAL_RandomFor_NN"
   ]
  },
  {
   "cell_type": "code",
   "execution_count": null,
   "id": "3c66fb03",
   "metadata": {},
   "outputs": [],
   "source": [
    "# Testausgabe der Konfusionsmatrix\n",
    "l_df_confusion_matrix.collect()"
   ]
  },
  {
   "cell_type": "markdown",
   "id": "italic-search",
   "metadata": {},
   "source": [
    "## Speichern der Modelle"
   ]
  },
  {
   "cell_type": "code",
   "execution_count": null,
   "id": "interested-cycle",
   "metadata": {},
   "outputs": [],
   "source": [
    "# Model Storage initialisieren und Modell speichern\n",
    "from hana_ml.model_storage import ModelStorage, ModelStorageError\n",
    "\n",
    "MODEL_SCHEMA = 'ML_MODEL' # HANA-Schema in dem die erzeugten Modelle gespeichert werden\n",
    "\n",
    "model_storage = ModelStorage(\n",
    "    connection_context = connection,\n",
    "    schema = MODEL_SCHEMA)\n",
    "\n",
    "g_model_name_rfc = 'RandomForest CHURN'\n",
    "\n",
    "rfc.name = g_model_name_rfc\n",
    "\n",
    "model_storage.save_model(model = rfc, \n",
    "                         if_exists = 'upgrade')                       \n",
    "\n",
    "# Werte für if_exists: \n",
    "# replace: Letzte Version wird ersetzt; \n",
    "# upgrade: Neue Version wird geschrieben"
   ]
  },
  {
   "cell_type": "code",
   "execution_count": null,
   "id": "consecutive-wheat",
   "metadata": {},
   "outputs": [],
   "source": [
    "# Ausgabe der gespeicherten Modelle \n",
    "model_storage.list_models()"
   ]
  },
  {
   "cell_type": "code",
   "execution_count": null,
   "id": "satisfied-lewis",
   "metadata": {},
   "outputs": [],
   "source": [
    "# Einschub: Alle Tabellen im Schema ML_MODEL\n",
    "connection.table('M_TABLES', schema = 'SYS').filter(\"SCHEMA_NAME = 'ML_MODEL'\").collect()"
   ]
  },
  {
   "cell_type": "markdown",
   "id": "israeli-latitude",
   "metadata": {},
   "source": [
    "### Ergänzung: Speichern der Metriken zum Modell"
   ]
  },
  {
   "cell_type": "markdown",
   "id": "55c89f83-5b4e-4808-ab75-682da302094f",
   "metadata": {},
   "source": [
    "Vorgehen:\n",
    "- Abrufen der neuesten Versionsnummer und Zeitstempel des letzten gespeicherten Modells (aus Tabelle HANAML_MODEL_STORAGE)\n",
    "- Anreichern des Klassifikationsreports mit den Informationen Versionsnummer und Zeitstempel.\n",
    "- Alles zusammen in der Tabelle MODEL_METRIC im Schema ML_MODEL"
   ]
  },
  {
   "cell_type": "code",
   "execution_count": null,
   "id": "7a946f28",
   "metadata": {},
   "outputs": [],
   "source": [
    "# Letzte Version abrufen von Modell => Timestamp und Versionsnummer übernehmen für das Speichern der Zusatzinformationen\n",
    "l_df_all_model = connection.table(table = 'HANAML_MODEL_STORAGE', \n",
    "                                  schema = 'ML_MODEL').filter(\"NAME = 'RandomForest CHURN'\")\n",
    "\n",
    "l_df_last_model = l_df_all_model.sort('TIMESTAMP', desc = True).head(1)\n",
    "\n",
    "l_df_last_model_info = l_df_last_model.select(['NAME','VERSION','TIMESTAMP'])\n",
    "l_df_last_model_info.collect()\n"
   ]
  },
  {
   "cell_type": "code",
   "execution_count": null,
   "id": "alleged-portuguese",
   "metadata": {},
   "outputs": [],
   "source": [
    "# Klassifikationsreport mit Informationen zu Modell verknüpfen\n",
    "l_df_model_metric = l_df_last_model_info.join(l_df_classification_report, condition = '1=1')\n",
    "\n",
    "l_df_model_metric.save( where = ('ML_MODEL','MODEL_METRIC'),\n",
    "                        force = False,\n",
    "                        append = True)\n",
    "\n",
    "# Prüfen, das gespeichert wurde\n",
    "connection.table('MODEL_METRIC', schema = 'ML_MODEL').collect()"
   ]
  },
  {
   "cell_type": "markdown",
   "id": "7eebb38b",
   "metadata": {},
   "source": [
    "## Laden des gespeicherten Modells"
   ]
  },
  {
   "cell_type": "code",
   "execution_count": null,
   "id": "charming-adaptation",
   "metadata": {},
   "outputs": [],
   "source": [
    "# Ein gespeichertes Modell laden\n",
    "g_rfc_loaded = model_storage.load_model(name = g_model_name_rfc)\n",
    "# Optionaler Parameter: version => Keine Angabe => Letzte Version nehmen\n",
    "# Bestimmte Version laden: \n",
    "# rfc_loaded = model_storage.load_model(\n",
    "#    name = 'RandomForest CHURN', version = 2)\n"
   ]
  },
  {
   "cell_type": "code",
   "execution_count": null,
   "id": "responsible-clarity",
   "metadata": {},
   "outputs": [],
   "source": [
    "# Beispieldaten hochladen\n",
    "import pandas as pd\n",
    "\n",
    "# Pandas Dataframe mit neuen Kundendaten erstellen\n",
    "l_pd_new_customer = pd.DataFrame( { 'CUSTOMERID' : [20000001,20000002],\n",
    "                                  'CREDITSCORE' : [500,450], \n",
    "                                  'GEOGRAPHY' : [\"Germany\",\"France\"], \n",
    "                                  'GENDER' : [\"Male\",\"Female\"],\n",
    "                                  'AGE' : [40,70], \n",
    "                                  'TENURE' : [8,4], \n",
    "                                  'BALANCE' : [84000.00, 72000.00],\n",
    "                                  'NUMOFPRODUCTS' : [2,3], \n",
    "                                  'HASCRCARD' : [1,0],\n",
    "                                  'ISACTIVEMEMBER' : [1,1], \n",
    "                                  'ESTIMATEDSALARY' : [90000.00,70000.00] \n",
    "                                }, index = [1,2] )\n",
    "\n",
    "# In neue Tabelle NEW_CUSTOMER_PREDICT speichern für PREDICT\n",
    "l_df_new_cust = dataframe.create_dataframe_from_pandas(connection_context = connection,\n",
    "                                                     pandas_df = l_pd_new_customer,\n",
    "                                                     table_name = 'NEW_CUSTOMER_PREDICT',\n",
    "                                                     schema = 'ML_DATA',\n",
    "                                                     primary_key = 'CUSTOMERID',\n",
    "                                                     drop_exist_tab = True,\n",
    "                                                     force = True)\n",
    "l_df_new_cust.collect()"
   ]
  },
  {
   "cell_type": "markdown",
   "id": "7b07a452-1ebd-4949-9608-76c4db6c286e",
   "metadata": {},
   "source": [
    "Einschub: Parameterkombinationen von drop_exist_tab, force:\n",
    "- force = False, drop_exist_tab = False => Anhängen an existierende Tabelle. Fehlermeldung, falls Primary Key Constraint verletzt ist\n",
    "- force = False, drop_exist_tab = True => Führt zu Fehlermeldung 'Cannot use duplicate table name'\n",
    "- force = True, drop_exist_tab = False => Leert die Tabelle mittles Drop, nur die neuen Daten bleiben erhalten\n",
    "- force = True, drop_exist_tab = True => Löscht die Tabelle mittels Truncate, nur die neuen Daten bleiben erhalten\n",
    "\n",
    "Alternative zu create_dataframe_from_pandas: Temporäre Tabellen erstellen mit save und Eingabeparameter: table_type = LOCAL TEMPORARY COLUMN (siehe unten unter Aufräumarbeiten und Ergänzungen)"
   ]
  },
  {
   "cell_type": "code",
   "execution_count": null,
   "id": "computational-cheese",
   "metadata": {},
   "outputs": [],
   "source": [
    "# Anwenden des geladenen Modells\n",
    "l_df_new_cust_predict = g_rfc_loaded.predict( data = l_df_new_cust,\n",
    "                                            key = 'CUSTOMERID')\n",
    "\n",
    "l_df_new_cust_predict.collect()"
   ]
  },
  {
   "cell_type": "markdown",
   "id": "guilty-destruction",
   "metadata": {},
   "source": [
    "## Aufräumarbeiten und Ergänzungen"
   ]
  },
  {
   "cell_type": "code",
   "execution_count": null,
   "id": "distributed-minimum",
   "metadata": {},
   "outputs": [],
   "source": [
    "# Modelle zu Random Forest löschen\n",
    "# model_storage.delete_models(g_model_name_rfc)"
   ]
  },
  {
   "cell_type": "code",
   "execution_count": null,
   "id": "preceding-eight",
   "metadata": {},
   "outputs": [],
   "source": [
    "# Datentypen auslesen\n",
    "connection.table(table = 'NEW_CUSTOMER_PREDICT', schema = 'ML_DATA').dtypes()"
   ]
  },
  {
   "cell_type": "code",
   "execution_count": null,
   "id": "orange-decline",
   "metadata": {},
   "outputs": [],
   "source": [
    "# Tabellen NEW_CUSTOMER_PREDICT und MODEL_METRIC löschen\n",
    "# connection.drop_table('NEW_CUSTOMER_PREDICT', schema = 'ML_DATA')\n",
    "# connection.drop_table('MODEL_METRIC', schema = 'ML_MODEL')"
   ]
  },
  {
   "cell_type": "code",
   "execution_count": null,
   "id": "awful-fortune",
   "metadata": {},
   "outputs": [],
   "source": [
    "# Zusatz: Leere Tabelle aus Vorlage CHURN anlegen - Typ LOCAL TEMPORARY COLUMN\n",
    "# connection.table('CHURN', schema = 'ML_DATA').dtypes()\n",
    "df_churn_hull = connection.table('CHURN', schema = 'ML_DATA').filter('1 <> 1')\n",
    "\n",
    "df_churn_hull_2 = df_churn_hull.drop(['ROWNUMBER','SURNAME','EXITED'])\n",
    "\n",
    "df_churn_hull_2.save(where = ('ML_DATA','NEW_CUSTOMER_PREDICT'),\n",
    "                     table_type = 'LOCAL TEMPORARY COLUMN' )\n"
   ]
  },
  {
   "cell_type": "code",
   "execution_count": null,
   "id": "iraqi-indonesian",
   "metadata": {},
   "outputs": [],
   "source": [
    "df_churn_hull_2.dtypes()"
   ]
  },
  {
   "cell_type": "code",
   "execution_count": null,
   "id": "0100bf59",
   "metadata": {},
   "outputs": [],
   "source": []
  }
 ],
 "metadata": {
  "kernelspec": {
   "display_name": "Python 3 (ipykernel)",
   "language": "python",
   "name": "python3"
  },
  "language_info": {
   "codemirror_mode": {
    "name": "ipython",
    "version": 3
   },
   "file_extension": ".py",
   "mimetype": "text/x-python",
   "name": "python",
   "nbconvert_exporter": "python",
   "pygments_lexer": "ipython3",
   "version": "3.8.13"
  }
 },
 "nbformat": 4,
 "nbformat_minor": 5
}
