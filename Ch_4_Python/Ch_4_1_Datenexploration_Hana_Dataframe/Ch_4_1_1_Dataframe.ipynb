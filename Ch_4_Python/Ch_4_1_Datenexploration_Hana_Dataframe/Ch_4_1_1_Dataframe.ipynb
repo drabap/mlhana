{
 "cells": [
  {
   "cell_type": "code",
   "execution_count": null,
   "metadata": {},
   "outputs": [],
   "source": [
    "# Listing: Verbindung zu HANA von Python\n",
    "from hana_ml import dataframe\n",
    "\n",
    "connection = dataframe.ConnectionContext(KEY = 'DEV')\n"
   ]
  },
  {
   "cell_type": "code",
   "execution_count": null,
   "metadata": {},
   "outputs": [],
   "source": [
    "# Listing: Tabelle CHURN abfragen und auf 100 Zeilen reduzieren\n",
    "\n",
    "g_df_source = connection.table(table = 'CHURN',\n",
    "                               schema = 'ML_DATA')\n",
    "\n",
    "g_df_source.head(100).collect()"
   ]
  },
  {
   "cell_type": "code",
   "execution_count": null,
   "metadata": {},
   "outputs": [],
   "source": [
    "# Listing: Entfernen von Spalten mit dem Deselect-Befehl\n",
    "l_df_reduced = g_df_source.deselect(['ROWNUMBER','SURNAME'])\n",
    "l_df_reduced.collect()"
   ]
  },
  {
   "cell_type": "code",
   "execution_count": null,
   "metadata": {},
   "outputs": [],
   "source": [
    "# Selektion bestimmter Spalten\n",
    "l_df_select = g_df_source.select(\n",
    "    ['CUSTOMERID','CREDITSCORE','AGE','EXITED']\n",
    "    )\n",
    "l_df_select.collect()"
   ]
  },
  {
   "cell_type": "code",
   "execution_count": null,
   "metadata": {},
   "outputs": [],
   "source": [
    "# Aufruf der Describe-Methode\n",
    "g_df_source.describe(['CREDITSCORE','AGE',\n",
    "                           'TENURE','NUMOFPRODUCTS',\n",
    "                           'BALANCE']).collect()"
   ]
  },
  {
   "cell_type": "code",
   "execution_count": null,
   "metadata": {},
   "outputs": [],
   "source": [
    "# Aggregation auf Ebene GEOGRAPHY und EXITED\n",
    "l_df_exited_per_country = g_df_source.agg([\n",
    "    ('count','CUSTOMERID','COUNT_CUSTOMER')],\n",
    "    group_by = ['GEOGRAPHY','EXITED'])\n",
    "\n",
    "l_df_exited_per_country.sort(\n",
    "    ['GEOGRAPHY','EXITED']).collect()"
   ]
  },
  {
   "cell_type": "code",
   "execution_count": null,
   "metadata": {},
   "outputs": [],
   "source": [
    "# Filterung von Kunden \n",
    "# Kunden in Frankreich mit einem Produkt oder Kunden in Deutschland mit 3 oder 4 Produkten\n",
    "l_df_filter = g_df_source.filter(\"\"\"\n",
    "(Geography = 'France' AND NUMOFPRODUCTS = 1) \n",
    "OR \n",
    "(Geography = 'Germany' AND ( NUMOFPRODUCTS IN (3,4) ))\"\"\")\n",
    "l_df_filter.collect()\n",
    "\n",
    "# Validierung: \n",
    "#l_filter.distinct(['GEOGRAPHY',\n",
    "#                      'NUMOFPRODUCTS']).collect()"
   ]
  },
  {
   "cell_type": "code",
   "execution_count": null,
   "metadata": {},
   "outputs": [],
   "source": [
    "# UNION: Vereinigung zweier Kundengruppen\n",
    "# Kunden in Frankreich mit einem Produkt und Kunden in Deutschland mit 3 oder 4 Produkten\n",
    "l_df_france_1 = g_df_source.filter(\"\"\"\n",
    "Geography = 'France' AND NUMOFPRODUCTS = 1\n",
    "\"\"\")\n",
    "l_df_germany_3_4 = g_df_source.filter(\"\"\"\n",
    "Geography = 'Germany' \n",
    "AND  NUMOFPRODUCTS IN (3,4)\"\"\")\n",
    "\n",
    "l_df_union = l_df_france_1.union(l_df_germany_3_4)\n",
    "l_df_union.collect()\n",
    "# Validierung:\n",
    "#l_union.distinct(['GEOGRAPHY','NUMOFPRODUCTS']).collect()"
   ]
  },
  {
   "cell_type": "code",
   "execution_count": null,
   "metadata": {},
   "outputs": [],
   "source": [
    "# Berechnete Spalten\n",
    "l_df_calc = g_df_source.select(['CUSTOMERID','SURNAME',\n",
    "                                     'BALANCE','EXITED'])\n",
    "# Text für EXITED\n",
    "l_df_w_text = l_df_calc.select('*',\n",
    "                               (\"\"\"CASE EXITED WHEN 1 THEN 'EXITED' ELSE 'NOT EXITED' END\"\"\",\n",
    "                                    'EXIT_LABEL')\n",
    "                              )\n",
    "\n",
    "# Balance > 0 ?\n",
    "l_df_w_balance = l_df_w_text.select('*',\n",
    "                                    ('CASE WHEN BALANCE > 0 THEN 1 ELSE 0 END',\n",
    "                                     'HAS_BALANCE')\n",
    "                                   )\n",
    "\n",
    "l_df_w_balance.collect()"
   ]
  },
  {
   "cell_type": "code",
   "execution_count": null,
   "metadata": {},
   "outputs": [],
   "source": [
    "# Binning der Spalte BALANCE\n",
    "l_df = g_df_source.select(['CUSTOMERID','BALANCE'])\n",
    "# Binning uniform number\n",
    "l_df_bin = l_df.bin(col = 'BALANCE', \n",
    "                    strategy = 'uniform_number',\n",
    "                    bins = 10, \n",
    "                    bin_column = 'BALANCE_BIN')\n",
    "\n",
    "l_df_bin.collect()\n",
    "# Optional: Ausgabe alle BINS\n",
    "# l_df_bin.distinct('BALANCE_BIN').sort('BALANCE_BIN').collect()"
   ]
  },
  {
   "cell_type": "code",
   "execution_count": null,
   "metadata": {},
   "outputs": [],
   "source": [
    "# Dataframe aus SQL\n",
    "connection.sql(\"\"\"SELECT * FROM SYS.M_TABLES \n",
    "WHERE SCHEMA_NAME = 'ML_DATA' \"\"\").collect()"
   ]
  },
  {
   "cell_type": "code",
   "execution_count": null,
   "metadata": {},
   "outputs": [],
   "source": [
    "# Alternativ: Tabelle selektieren und Filter anwenden\n",
    "connection.table('M_TABLES', schema = 'SYS').filter(\"SCHEMA_NAME = 'ML_DATA'\").collect()"
   ]
  },
  {
   "cell_type": "code",
   "execution_count": null,
   "metadata": {},
   "outputs": [],
   "source": [
    "# Neu ab 2.9: Alle Tabellen ausgeben\n",
    "connection.get_tables(schema = 'ML_DATA')"
   ]
  },
  {
   "cell_type": "code",
   "execution_count": null,
   "metadata": {},
   "outputs": [],
   "source": [
    "# Verbindung schließen\n",
    "connection.close()"
   ]
  },
  {
   "cell_type": "code",
   "execution_count": null,
   "metadata": {},
   "outputs": [],
   "source": []
  }
 ],
 "metadata": {
  "kernelspec": {
   "display_name": "Python 3",
   "language": "python",
   "name": "python3"
  },
  "language_info": {
   "codemirror_mode": {
    "name": "ipython",
    "version": 3
   },
   "file_extension": ".py",
   "mimetype": "text/x-python",
   "name": "python",
   "nbconvert_exporter": "python",
   "pygments_lexer": "ipython3",
   "version": "3.8.8"
  }
 },
 "nbformat": 4,
 "nbformat_minor": 4
}
