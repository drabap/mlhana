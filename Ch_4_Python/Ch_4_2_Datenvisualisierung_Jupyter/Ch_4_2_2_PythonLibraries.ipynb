{
 "cells": [
  {
   "cell_type": "markdown",
   "metadata": {},
   "source": [
    "# Kapitel 4, Abschnitt 4.2.2 - Visualisieren mit Python-Bibliotheken"
   ]
  },
  {
   "cell_type": "markdown",
   "metadata": {},
   "source": [
    "- Pandas Dataframe => Scatter Plot von IRIS\n",
    "- Plotly => Multivariate Diagramme und Facet Plot bei CHURN\n",
    "\n",
    "- HANA-Tabellen:\n",
    "-- IRIS\n",
    "-- CHURN"
   ]
  },
  {
   "cell_type": "markdown",
   "metadata": {},
   "source": [
    "# Matplotlib - Streudiagramm"
   ]
  },
  {
   "cell_type": "code",
   "execution_count": null,
   "metadata": {},
   "outputs": [],
   "source": [
    "# Initialisierung zu Beginn des Jupyter-Notebooks (Wiederholung Listing 4.12)\n",
    "\n",
    "# Python-Bibliotheken importieren und zu HANA verbinden\n",
    "from hana_ml import dataframe\n",
    "from hana_ml.visualizers.eda import EDAVisualizer\n",
    "import matplotlib.pyplot as plt\n",
    "\n",
    "\n",
    "connection = dataframe.ConnectionContext(KEY = 'DEV')\n",
    "\n",
    "# CHURN laden\n",
    "g_df_churn = connection.table('CHURN', schema = 'ML_DATA')\n",
    "# IRIS laden\n",
    "g_df_iris = connection.table('IRIS', schema = 'ML_DATA')"
   ]
  },
  {
   "cell_type": "code",
   "execution_count": null,
   "metadata": {},
   "outputs": [],
   "source": [
    "# Streudiagramm von IRIS mit Pandas\n",
    "# X,Y : Länge/Breite\n",
    "# Farbe: Kategorie (Spalte SPECIES)\n",
    "\n",
    "# HANA Dataframe nach Pandas dataframe\n",
    "pd_iris = g_df_iris.collect()\n",
    "\n",
    "# Kategoriale Kodierung von SPECIES => Zur Färbung der Punkte nehmen\n",
    "# Quelle: https://pbpython.com/categorical-encoding.html\n",
    "\n",
    "pd_iris['SPECIES'] = pd_iris['SPECIES'].astype('category')\n",
    "pd_iris['SPECIES_CAT'] = pd_iris['SPECIES'].cat.codes\n",
    "\n",
    "# Scatter Plot\n",
    "pd_iris.plot(kind = 'scatter',  \n",
    "             x = 'SEPAL_LENGTH',\n",
    "             y = 'PETAL_WIDTH',\n",
    "             c = 'SPECIES_CAT',\n",
    "             cmap = 'coolwarm')"
   ]
  },
  {
   "cell_type": "markdown",
   "metadata": {},
   "source": [
    "# Plotly - Facet plot"
   ]
  },
  {
   "cell_type": "code",
   "execution_count": null,
   "metadata": {},
   "outputs": [],
   "source": [
    "# Vorbereitung der Visualisierung: Aggregation in der HANA\n",
    "\n",
    "# Aggregation: Anzahl Kündigungen nach Anzahl Produkte\n",
    "group_by_col = ['NUMOFPRODUCTS','EXITED']\n",
    "\n",
    "l_df_agg = g_df_churn.agg(\n",
    "                               [('count',\n",
    "                                 'CUSTOMERID',\n",
    "                                 'COUNT_CUSTOMER')\n",
    "                               ],\n",
    "                               group_by = group_by_col)\n",
    "\n",
    "l_exp_label = \"\"\"CASE EXITED WHEN 1 THEN 'EXITED'\n",
    " ELSE 'NOT EXITED' END\"\"\"\n",
    "\n",
    "l_df_w_text = l_df_agg.select('*',\n",
    "                              (l_exp_label, 'EXIT_LABEL')\n",
    "                             )\n",
    "\n",
    "# Umwandeln in Pandas Dataframe\n",
    "l_pd_df = l_df_w_text.sort(group_by_col).collect()\n",
    "# Zum Testen: Ausgeben des Pandas Dataframe\n",
    "print(l_pd_df)"
   ]
  },
  {
   "cell_type": "markdown",
   "metadata": {},
   "source": [
    "## Stacked Barchart mit einer Dimension"
   ]
  },
  {
   "cell_type": "code",
   "execution_count": null,
   "metadata": {},
   "outputs": [],
   "source": [
    "# Balkendiagramm mit Dimension Anzahl Produkte\n",
    "\n",
    "import plotly.express as px\n",
    "\n",
    "fig = px.bar(data_frame = l_pd_df,\n",
    "             x = 'NUMOFPRODUCTS', \n",
    "             y = 'COUNT_CUSTOMER', \n",
    "             color = 'EXIT_LABEL', \n",
    "             color_discrete_sequence = px.colors.qualitative.D3\n",
    "             )\n",
    "\n",
    "\n",
    "\n",
    "fig.show()\n",
    "\n",
    "# Für JupyterLab muss eine Erweiterung installiert werden:\n",
    "# In Kommandozeile der Python-Umgebung:\n",
    "# jupyter labextension install jupyterlab-plotly\n",
    "\n",
    "# Workaround JupyterLab: Export als iframe:\n",
    "#fig.show( renderer = 'iframe' )\n",
    "\n",
    "\n"
   ]
  },
  {
   "cell_type": "markdown",
   "metadata": {},
   "source": [
    "## Facet Plot mit zwei Dimensionen"
   ]
  },
  {
   "cell_type": "code",
   "execution_count": null,
   "metadata": {},
   "outputs": [],
   "source": [
    "# Plotly: Barchart mit zwei Dimensionen\n",
    "# Anteil der Kündigenden nach Land und Anzahl Produkte\n",
    "\n",
    "import plotly.express as px\n",
    "\n",
    "group_by_col_ext = ['GEOGRAPHY','NUMOFPRODUCTS','EXITED']\n",
    "\n",
    "l_df_agg_ext = g_df_churn.agg([('count',\n",
    "                                'CUSTOMERID',\n",
    "                                'COUNT_CUSTOMER')\n",
    "                              ],\n",
    "                              group_by = group_by_col_ext)\n",
    "\n",
    "\n",
    "l_exp_label = \"\"\"CASE EXITED WHEN 1 THEN 'EXITED'\n",
    " ELSE 'NOT EXITED' END\"\"\"\n",
    "\n",
    "l_df_text_ext = l_df_agg_ext.select('*',\n",
    "                                    (l_exp_label, 'EXIT_LABEL')\n",
    "                                   )\n",
    "\n",
    "# Umwandeln in Pandas Dataframe\n",
    "l_pd_df_ext = l_df_text_ext.sort(group_by_col_ext).collect()\n",
    "\n",
    "# Zum Testen: Ausgeben des Pandas Dataframe\n",
    "#print(l_pd_df_ext)\n",
    "\n",
    "# Zeichnen\n",
    "\n",
    "fig = px.bar( l_pd_df_ext, \n",
    "             x = 'NUMOFPRODUCTS', \n",
    "             y = 'COUNT_CUSTOMER', \n",
    "             color = 'EXIT_LABEL', \n",
    "             facet_row = 'GEOGRAPHY',\n",
    "             #barmode = 'group', # Klassen nebeneinander anzeigen\n",
    "             facet_row_spacing = 0.07,\n",
    "             labels = {'COUNT_CUSTOMER' : 'Kunden', \n",
    "                       'EXIT_LABEL' : 'Kündiger'},\n",
    "             color_discrete_sequence = px.colors.qualitative.D3 )\n",
    "\n",
    "# Optional: \"Compare data on hover\" aktivieren\n",
    "# fig.update_layout( hovermode = 'x' )\n",
    "\n",
    "fig.show( )\n"
   ]
  },
  {
   "cell_type": "code",
   "execution_count": null,
   "metadata": {},
   "outputs": [],
   "source": [
    "# Verbindung schließen\n",
    "connection.close()"
   ]
  },
  {
   "cell_type": "markdown",
   "metadata": {},
   "source": [
    "## Zusatz"
   ]
  },
  {
   "cell_type": "code",
   "execution_count": null,
   "metadata": {},
   "outputs": [],
   "source": [
    "# Beispiele für mögliche Farbschemata in Plotly\n",
    "import plotly.express as px\n",
    "px.colors.qualitative.swatches()"
   ]
  },
  {
   "cell_type": "code",
   "execution_count": null,
   "metadata": {},
   "outputs": [],
   "source": [
    "# Zusatz: Andere Plot-Typen mit Pandas\n",
    "# KDE-Plot von IRIS mit Pandas\n",
    "# Y : Spalte, deren Dichte geschätzt werden soll\n",
    "\n",
    "\n",
    "# HANA Dataframe nach Pandas Dataframe\n",
    "l_pd_frame = g_df_iris.collect()\n",
    "\n",
    "# Testausgabe bei Bedarf\n",
    "# print(l_pd_frame)\n",
    "\n",
    "\n",
    "# KDE plot\n",
    "\n",
    "l_pd_frame.plot( kind = \"kde\", \n",
    "                # x = \"SEPAL_LENGTH\", Bei kind = kde nur eine Dimension angeben\n",
    "                 y = \"PETAL_LENGTH\"\n",
    "                 #c = \"SPECIES_CAT\", \n",
    "                 #cmap = 'coolwarm' \n",
    "               )\n"
   ]
  },
  {
   "cell_type": "code",
   "execution_count": null,
   "metadata": {},
   "outputs": [],
   "source": [
    "# Zusatz: Andere Plot-Typen mit Pandas\n",
    "# KDE-Plot von CHURN mit Pandas\n",
    "# Y : Spalte, deren Dichte geschätzt werden soll\n",
    "\n",
    "\n",
    "# HANA Dataframe nach Pandas Dataframe\n",
    "l_pd_frame = g_df_churn.filter('BALANCE > 0').collect()\n",
    "\n",
    "# Bei Bedarf Testausgabe\n",
    "# print(l_pd_frame)\n",
    "\n",
    "# KDE plot\n",
    "\n",
    "l_pd_frame.plot( kind = \"kde\", \n",
    "                 y = \"BALANCE\"\n",
    "                 #cmap = 'coolwarm' \n",
    "               )\n"
   ]
  },
  {
   "cell_type": "markdown",
   "metadata": {},
   "source": [
    "### Workaround Plotly bei Jupyterlab"
   ]
  },
  {
   "cell_type": "code",
   "execution_count": null,
   "metadata": {},
   "outputs": [],
   "source": [
    "# In Jupyterlab werden interaktive Diagramme wie bei Plotly \n",
    "# nicht angezeigt.\n",
    "# Als Workaround kann man beim Befehl fig.show das Argument renderer = \"iframe\" einfügen\n",
    "\n",
    "# Test von Plotly gemäß \n",
    "# https://stackoverflow.com/questions/63449330/plotly-graphs-dont-render-on-jupyterlab-installed-with-zero-to-jupyterhub-gke\n",
    "import plotly.graph_objects as go\n",
    "\n",
    "fig = go.Figure(data=go.Bar(y=[2, 3, 1]))\n",
    "\n",
    "fig.show(renderer = \"iframe\")"
   ]
  },
  {
   "cell_type": "code",
   "execution_count": null,
   "metadata": {},
   "outputs": [],
   "source": []
  }
 ],
 "metadata": {
  "kernelspec": {
   "display_name": "Python 3 (ipykernel)",
   "language": "python",
   "name": "python3"
  },
  "language_info": {
   "codemirror_mode": {
    "name": "ipython",
    "version": 3
   },
   "file_extension": ".py",
   "mimetype": "text/x-python",
   "name": "python",
   "nbconvert_exporter": "python",
   "pygments_lexer": "ipython3",
   "version": "3.8.13"
  }
 },
 "nbformat": 4,
 "nbformat_minor": 4
}
