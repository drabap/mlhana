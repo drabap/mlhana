{
 "cells": [
  {
   "cell_type": "markdown",
   "metadata": {},
   "source": [
    "Kapitel 4, Abschnitt 4.2.1 - Datenvisualisierung im Jupyter Notebook\n",
    "- Verwendung des EDA-Visualisiers\n",
    "\n",
    "Klasse hana_ml.visualizer.eda.EDAVisualizer\n",
    "\n",
    "Diagramm-Arten:\n",
    "- Distribution/ Histogramm => Histogramm einer numerischen Variable\n",
    "- Pie Plot: Kuchendiagramm für kategoriale Verteilung\n",
    "- Bar Plot: Balkendiagramm einer Spalte\n",
    "\n",
    "- Scatter Plot: Gemeinsame Verteilung zweier Variablen\n",
    "- Correlation Plot: Korrelation zwischen numerischen Variablen\n",
    "- Box plot: Mittelwert und Quantile einer Variable beschreiben\n",
    "\n",
    "- DataserReportBuilder: Übersicht über verschiedene Informationen und Diagramme zu den Variablen\n",
    "\n",
    "\n"
   ]
  },
  {
   "cell_type": "code",
   "execution_count": null,
   "metadata": {},
   "outputs": [],
   "source": [
    "# Initialisierung zu Beginn des Jupyer-Notebooks\n",
    "\n",
    "# Python-Bibliotheken importieren und zu HANA verbinden\n",
    "from hana_ml import dataframe\n",
    "from hana_ml.visualizers.eda import EDAVisualizer\n",
    "import matplotlib.pyplot as plt\n",
    "\n",
    "connection = dataframe.ConnectionContext(KEY = 'DEV')\n",
    "\n",
    "# CHURN laden\n",
    "g_df_churn = connection.table('CHURN', schema = 'ML_DATA')\n",
    "# IRIS laden\n",
    "g_df_iris = connection.table('IRIS', schema = 'ML_DATA')"
   ]
  },
  {
   "cell_type": "code",
   "execution_count": null,
   "metadata": {},
   "outputs": [],
   "source": [
    "# Histogramm für die Variable AGE\n",
    "\n",
    "fig = plt.figure(figsize = (18,6))\n",
    "\n",
    "ax1 = fig.add_subplot(121)\n",
    "eda = EDAVisualizer(ax1)\n",
    "\n",
    "ax1, dist_data = eda.distribution_plot(\n",
    "                                       data = g_df_churn, \n",
    "                                       column = 'AGE',\n",
    "                                       bins = 10,\n",
    "                                       title = 'Verteilung des Alters aller Kunden')\n"
   ]
  },
  {
   "cell_type": "code",
   "execution_count": null,
   "metadata": {},
   "outputs": [],
   "source": [
    "# Zusatz: Histogramm für Balance\n",
    "\n",
    "fig = plt.figure(figsize = (18,6))\n",
    "\n",
    "ax1 = fig.add_subplot(121)\n",
    "eda = EDAVisualizer(ax1)\n",
    "\n",
    "ax1, dist_data = eda.distribution_plot(data = g_df_churn, \n",
    "                                       column = 'BALANCE',\n",
    "                                       bins = 10,\n",
    "                                       title = 'Verteilung des Kontosaldo aller Kunden')\n",
    "\n",
    "# Beobachtung: Viele mit 0 => in der Praxis müsste man nun untersuchen,\n",
    "# ob diese Wert korrekt sind oder in den Rohdaten der Wert fehlt \n",
    "\n"
   ]
  },
  {
   "cell_type": "code",
   "execution_count": null,
   "metadata": {},
   "outputs": [],
   "source": [
    "# Bar Plot: Kunden nach Produkt\n",
    "fig_barplot = plt.figure(figsize = (18,6))\n",
    "\n",
    "\n",
    "ax1 = fig_barplot.add_subplot(121)\n",
    "eda = EDAVisualizer(ax1)\n",
    "\n",
    "ax1, bar_data = eda.bar_plot(data = g_df_churn, \n",
    "                             column = 'NUMOFPRODUCTS',\n",
    "                             aggregation = {'CUSTOMERID':'count'})\n"
   ]
  },
  {
   "cell_type": "code",
   "execution_count": null,
   "metadata": {},
   "outputs": [],
   "source": [
    "# Zusatz: Bar Plot: Durchschnittliche BALANCE nach Produkt\n",
    "fig_barplot = plt.figure(figsize = (18,6))\n",
    "\n",
    "\n",
    "ax1 = fig_barplot.add_subplot(121)\n",
    "eda = EDAVisualizer(ax1)\n",
    "\n",
    "ax1, bar_data = eda.bar_plot(data = g_df_churn, \n",
    "                             column = 'NUMOFPRODUCTS',\n",
    "                             aggregation = {'BALANCE':'avg'})\n"
   ]
  },
  {
   "cell_type": "code",
   "execution_count": null,
   "metadata": {},
   "outputs": [],
   "source": [
    "# Anteil der Kunden nach Land\n",
    "\n",
    "fig_pieplot = plt.figure(figsize = (18,6))\n",
    "\n",
    "ax1 = fig_pieplot.add_subplot(121)\n",
    "eda = EDAVisualizer(ax1)\n",
    "\n",
    "ax1, pie_data = eda.pie_plot(data = g_df_churn, \n",
    "                             explode = 0.03,\n",
    "                             column = 'GEOGRAPHY')"
   ]
  },
  {
   "cell_type": "code",
   "execution_count": null,
   "metadata": {},
   "outputs": [],
   "source": [
    "# Kreisdiagramm: Anteil Kündigende in zwei Altersgruppen\n",
    "\n",
    "df_age_below_50 = g_df_churn.filter('AGE <= 50')\n",
    "df_age_above_50 = g_df_churn.filter('AGE > 50')\n",
    "\n",
    "fig_churn_by_age = plt.figure(figsize = (18,6))\n",
    "ax1 = fig_churn_by_age.add_subplot(121)\n",
    "eda = EDAVisualizer(ax1)\n",
    "\n",
    "ax1, pie_data = eda.pie_plot(data = df_age_below_50, \n",
    "                             column = 'EXITED', \n",
    "                             title = \"Churn for Age <= 50\")\n",
    "\n",
    "ax2 = fig_churn_by_age.add_subplot(122)\n",
    "eda2 = EDAVisualizer(ax2)\n",
    "ax2, pie_data2 = eda2.pie_plot(data = df_age_above_50, \n",
    "                               column = 'EXITED',\n",
    "                               title = \"Churn for Age > 50\")\n"
   ]
  },
  {
   "cell_type": "code",
   "execution_count": null,
   "metadata": {},
   "outputs": [],
   "source": [
    "# Streudiagramm mit Iris-Daten\n",
    "# Plottet SEPAL_WIDTH vs. SEPAL_LENGTH\n",
    "\n",
    "fig_scatter_iris = plt.figure(figsize=(18,6))\n",
    "\n",
    "ax1 = fig_scatter_iris.add_subplot(121)\n",
    "eda = EDAVisualizer(ax1)\n",
    "\n",
    "# Color maps:\n",
    "# Greys: Graustufen\n",
    "# Reds, Blues\n",
    "\n",
    "ax1, scatter_data = eda.scatter_plot(data = g_df_iris, \n",
    "                                  x = 'SEPAL_WIDTH', \n",
    "                                  y = 'SEPAL_LENGTH', \n",
    "                                  x_bins = 4, y_bins = 4,\n",
    "                                  debrief = True, \n",
    "                                  cmap = 'Blues')"
   ]
  },
  {
   "cell_type": "code",
   "execution_count": null,
   "metadata": {},
   "outputs": [],
   "source": [
    "# Einschub: Binning manuell machen und zählen\n",
    "l_df_iris_bin = g_df_iris.bin(col = 'SEPAL_WIDTH', \n",
    "                              strategy = 'uniform_number', \n",
    "                              bins = 4, bin_column = 'SEPAL_WIDTH_BIN')\n",
    "\n",
    "l_df_iris_bin_2 = l_df_iris_bin.bin(col = 'SEPAL_LENGTH',\n",
    "                                    strategy = 'uniform_number',\n",
    "                                    bins = 4, bin_column = 'SEPAL_LENGTH_BIN')\n",
    "\n",
    "l_list_agg = [('count','PLANTID','COUNT_PLANT'),\n",
    "              ('min','SEPAL_WIDTH','SEPAL_WIDTH_MIN'),\n",
    "              ('max','SEPAL_WIDTH','SEPAL_WIDTH_MAX')]\n",
    "\n",
    "l_df_iris_agg = l_df_iris_bin_2.agg(l_list_agg,\n",
    "                                    group_by = ['SEPAL_WIDTH_BIN','SEPAL_LENGTH_BIN'])\n",
    "l_df_iris_agg.sort(['SEPAL_WIDTH_BIN','SEPAL_LENGTH_BIN']).collect()\n",
    "\n",
    "#dataframe_iris.describe().collect()\n"
   ]
  },
  {
   "cell_type": "code",
   "execution_count": null,
   "metadata": {},
   "outputs": [],
   "source": [
    "# Korrelation berechnen\n",
    "\n",
    "fig_correlation_iris = plt.figure(figsize=(18,6))\n",
    "\n",
    "ax1 = fig_correlation_iris.add_subplot(121)\n",
    "eda = EDAVisualizer(ax1)\n",
    "\n",
    "ax1, scatter_data = eda.correlation_plot(\n",
    "                                  data = g_df_iris, \n",
    "                                  corr_cols = ['SEPAL_LENGTH','SEPAL_WIDTH',\n",
    "                                               'PETAL_LENGTH','PETAL_WIDTH'],\n",
    "                                  cmap = 'Reds')"
   ]
  },
  {
   "cell_type": "code",
   "execution_count": null,
   "metadata": {},
   "outputs": [],
   "source": [
    "# Tipp: Direkte Berechnung Korrelation mit Dataframe\n",
    "g_df_iris.corr('SEPAL_LENGTH','SEPAL_WIDTH').collect()"
   ]
  },
  {
   "cell_type": "code",
   "execution_count": null,
   "metadata": {},
   "outputs": [],
   "source": [
    "# Boxplot für die Variable BALANCE\n",
    "# Variation: Gruppieren nach Spalte, z.B. GEOGRAPHY\n",
    "\n",
    "f = plt.figure(figsize=(18,6))\n",
    "\n",
    "ax1 = f.add_subplot(121)\n",
    "eda = EDAVisualizer(ax1)\n",
    "\n",
    "l_df_bal = g_df_churn.filter(\"BALANCE > 0\")\n",
    "ax, bar_data = eda.box_plot(data = l_df_bal,\n",
    "                            column = 'BALANCE',\n",
    "                            #groupby = 'GEOGRAPHY',\n",
    "                            outliers = True)\n",
    "                                                 "
   ]
  },
  {
   "cell_type": "code",
   "execution_count": null,
   "metadata": {},
   "outputs": [],
   "source": [
    "# Ergänzung:\n",
    "# Boxplot: SEPAL_LENGTH nach Art (SPECIES)\n",
    "# outliers = true => Ausreißer darstellen\n",
    "\n",
    "f = plt.figure(figsize=(18,6))\n",
    "\n",
    "ax1 = f.add_subplot(121)\n",
    "eda = EDAVisualizer(ax1)\n",
    "\n",
    "ax, bar_data = eda.box_plot(data = g_df_iris, column='SEPAL_LENGTH', \n",
    "                                                 groupby = 'SPECIES', outliers = True)"
   ]
  },
  {
   "cell_type": "code",
   "execution_count": null,
   "metadata": {},
   "outputs": [],
   "source": [
    "# Ergänzung: Statistische Kennzahlen für Boxplot ermitteln\n",
    "list_cols_proj = ['column','median',\n",
    "                  'min','max',\n",
    "                  '25_percent_cont',\n",
    "                  '75_percent_cont']\n",
    "\n",
    "l_df_bal = g_df_churn.filter(\"BALANCE > 0\")\n",
    "l_df_bal = l_df_bal.select(\"BALANCE\")\n",
    "\n",
    "l_df_bal.describe().select(list_cols_proj).collect()\n",
    "\n",
    "\n",
    "# Bedeutung (gem. https://de.wikipedia.org/wiki/Box-Plot)\n",
    "\n",
    "# Gestrichelte Linie: Median => 50% der Werte darunter, 50% darüber\n",
    "# Blaue Box: Mittlere 50% der Werte => die kleinsten 25% sind links der Box, 75% der Werte sind links vom rechten Rand der Box\n",
    "#  linker Rand der blauen Box = 25_percent_cont (unteres Quartil). Hier: 100.000\n",
    "# rechter Rand der blauen Box = 75_percent_cont (oberes Quartil).  Hier: 140.000\n",
    "# IQR: Inter-Quartils-Abstand ( 75_percent_cont - 25_percent_cont ): 40.000\n",
    "\n",
    "# Whisker-Antenne: \n",
    "# Suspected Outlier fence: unteres Quartil - 1.5*IQR = 100.000 - 1.5 * 40.000 = 40.000\n",
    "# Suspected Outlier fence: oberes Quartil + 1.5*IQR = 140.000 + 1.5*40.000 = 200.000\n",
    "# Außerhalb Suspected aber innerhalb Outlier fence: milde Ausreißer\n",
    "# Außerhalb von 3 Quartil (Outlier fence) => extreme Ausreißer\n"
   ]
  },
  {
   "cell_type": "code",
   "execution_count": null,
   "metadata": {},
   "outputs": [],
   "source": [
    "# Dataset Report erstellen für Tabelle CHURN\n",
    "from hana_ml.visualizers.dataset_report import DatasetReportBuilder\n",
    "\n",
    "datasetReportBuilder = DatasetReportBuilder()\n",
    "datasetReportBuilder.build( g_df_churn, key = 'CUSTOMERID')\n",
    "datasetReportBuilder.generate_notebook_iframe_report()\n"
   ]
  },
  {
   "cell_type": "code",
   "execution_count": null,
   "metadata": {},
   "outputs": [],
   "source": [
    "# Ergänzung: Dataset Report erstellen für Tabelle IRIS\n",
    "from hana_ml.visualizers.dataset_report import DatasetReportBuilder\n",
    "\n",
    "datasetReportBuilder = DatasetReportBuilder()\n",
    "datasetReportBuilder.build(g_df_iris, key = 'PLANTID')\n",
    "datasetReportBuilder.generate_notebook_iframe_report()"
   ]
  },
  {
   "cell_type": "code",
   "execution_count": null,
   "metadata": {},
   "outputs": [],
   "source": [
    "# Verbindung schließen\n",
    "connection.close()"
   ]
  },
  {
   "cell_type": "code",
   "execution_count": null,
   "metadata": {},
   "outputs": [],
   "source": []
  }
 ],
 "metadata": {
  "kernelspec": {
   "display_name": "Python 3 (ipykernel)",
   "language": "python",
   "name": "python3"
  },
  "language_info": {
   "codemirror_mode": {
    "name": "ipython",
    "version": 3
   },
   "file_extension": ".py",
   "mimetype": "text/x-python",
   "name": "python",
   "nbconvert_exporter": "python",
   "pygments_lexer": "ipython3",
   "version": "3.8.13"
  }
 },
 "nbformat": 4,
 "nbformat_minor": 4
}
