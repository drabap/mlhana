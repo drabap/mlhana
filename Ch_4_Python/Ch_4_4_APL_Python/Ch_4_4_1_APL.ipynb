{
 "cells": [
  {
   "cell_type": "markdown",
   "id": "c7740acb-e935-4f13-8cd6-6abae35b0a84",
   "metadata": {},
   "source": [
    "# APL verwenden\n",
    "\n",
    "- Modell trainieren\n",
    "\n",
    "- Indikatoren und Kennzahlen auslesen\n",
    "\n",
    "- Prognose mit Modell erstellen\n",
    "\n"
   ]
  },
  {
   "cell_type": "markdown",
   "id": "feb8600b",
   "metadata": {},
   "source": [
    "## Modell trainieren\n"
   ]
  },
  {
   "cell_type": "code",
   "execution_count": null,
   "id": "e556424a-05c3-4567-be17-3712d4f777af",
   "metadata": {},
   "outputs": [],
   "source": [
    "# Verbindung zur HANA und Aufteilen der Daten\n",
    "from hana_ml import dataframe\n",
    "from hana_ml.algorithms.pal import partition\n",
    "\n",
    "connection = dataframe.ConnectionContext(KEY = 'DEV')\n",
    "\n",
    "# CHURN laden\n",
    "l_df_churn = connection.table('CHURN', schema = 'ML_DATA')\n",
    "\n",
    "l_df_churn_red = l_df_churn.deselect(['ROWNUMBER','SURNAME'])\n",
    "\n",
    "g_df_train, g_df_test, g_df_valid = partition.train_test_val_split( \n",
    "                                                    data = l_df_churn_red,\n",
    "                                                    id_column = 'CUSTOMERID', \n",
    "                                                    partition_method = 'stratified',\n",
    "                                                    training_percentage = 0.6, \n",
    "                                                    validation_percentage = 0.0,\n",
    "                                                    testing_percentage = 0.4,\n",
    "                                                    stratified_column = 'EXITED' \n",
    "   )"
   ]
  },
  {
   "cell_type": "code",
   "execution_count": null,
   "id": "a4004575",
   "metadata": {},
   "outputs": [],
   "source": [
    "# Initialisieren und Konfigurieren des Gradient-Boosting\n",
    "from hana_ml.algorithms.apl.gradient_boosting_classification  import GradientBoostingBinaryClassifier\n",
    "\n",
    "g_gradboost_c = GradientBoostingBinaryClassifier()\n",
    "\n",
    "# Konfigurieren mit optionalen Parametern\n",
    "g_gradboost_c.set_params(\n",
    " eval_metric = 'LogLoss',\n",
    " max_depth = 4,\n",
    " learningrate = 0.05   \n",
    ")"
   ]
  },
  {
   "cell_type": "code",
   "execution_count": null,
   "id": "26258fad-23c7-4c02-9ed0-a0c61575d49a",
   "metadata": {},
   "outputs": [],
   "source": [
    "# Variablen konfigurieren\n",
    "# Variablen werden automatisch mit Vorschlagswerten initialisiert. Die manuelle Zuweisung ist somit optional\n",
    "g_gradboost_c.set_params(\n",
    "   variable_value_types = {\n",
    "       'AGE' : 'continuous'\n",
    "   }\n",
    ")"
   ]
  },
  {
   "cell_type": "code",
   "execution_count": null,
   "id": "de750c17-65fb-4e78-9668-7cfa9b02785c",
   "metadata": {},
   "outputs": [],
   "source": [
    "# Modelltraining mit APL\n",
    "g_gradboost_c.fit(g_df_train, \n",
    "                  label = 'EXITED', \n",
    "                  key = 'CUSTOMERID')"
   ]
  },
  {
   "cell_type": "markdown",
   "id": "d0aff3d0-1ef4-468d-bda2-ce79050ea319",
   "metadata": {},
   "source": [
    "## Indikatoren und Kennzahlen auslesen"
   ]
  },
  {
   "cell_type": "code",
   "execution_count": null,
   "id": "ce7ea1af-7a1c-403f-9aa3-3236a0a4ce5c",
   "metadata": {},
   "outputs": [],
   "source": [
    "# Metriken des Modells ausgeben\n",
    "g_gradboost_c.get_performance_metrics()"
   ]
  },
  {
   "cell_type": "code",
   "execution_count": null,
   "id": "2fcbdbcf-cf27-4c82-a803-6c236987d2b9",
   "metadata": {},
   "outputs": [],
   "source": [
    "# Einfluss der Eingabevariablen ausgeben\n",
    "g_gradboost_c.get_feature_importances()"
   ]
  },
  {
   "cell_type": "code",
   "execution_count": null,
   "id": "5e57f3ee-536d-4747-a805-2aa18f3e91cf",
   "metadata": {},
   "outputs": [],
   "source": [
    "## Prognosebildung mit APL\n",
    "\n",
    "l_df_result = g_gradboost_c.predict(g_df_test)\n",
    "\n",
    "l_df_result.collect()"
   ]
  },
  {
   "cell_type": "code",
   "execution_count": null,
   "id": "967697fa-22d8-4298-9998-e100c008e409",
   "metadata": {},
   "outputs": [],
   "source": []
  }
 ],
 "metadata": {
  "kernelspec": {
   "display_name": "Python 3 (ipykernel)",
   "language": "python",
   "name": "python3"
  },
  "language_info": {
   "codemirror_mode": {
    "name": "ipython",
    "version": 3
   },
   "file_extension": ".py",
   "mimetype": "text/x-python",
   "name": "python",
   "nbconvert_exporter": "python",
   "pygments_lexer": "ipython3",
   "version": "3.8.13"
  }
 },
 "nbformat": 4,
 "nbformat_minor": 5
}
