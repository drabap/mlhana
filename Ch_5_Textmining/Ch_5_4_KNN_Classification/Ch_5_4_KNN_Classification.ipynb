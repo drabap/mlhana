{
 "cells": [
  {
   "cell_type": "markdown",
   "id": "a77b29cc-51bd-42fa-8079-32ab09fc7849",
   "metadata": {},
   "source": [
    "# Klassifikation von Dokumenten mit k-nearest Neighbours (k-NN)"
   ]
  },
  {
   "cell_type": "markdown",
   "id": "4f904d91-52e8-4301-8a44-ddee2fccce35",
   "metadata": {},
   "source": [
    "## Daten vorbereiten"
   ]
  },
  {
   "cell_type": "code",
   "execution_count": null,
   "id": "fd7c2159-bfa6-487f-bbbc-1f56e89f5fc0",
   "metadata": {},
   "outputs": [],
   "source": [
    "# HANA-Dataframe für den Dokumentenkorpus \n",
    "# Quelltabelle: ML_TEXT.NEWSCORP\n",
    "\n",
    "# Verbindung zur HANA\n",
    "from hana_ml import dataframe\n",
    "\n",
    "connection = dataframe.ConnectionContext( KEY = 'DEV')\n",
    "\n",
    "df_newscorp = connection.table('NEWSCORP', \n",
    "                               schema = 'ML_TEXT')\n",
    "\n",
    "# Umwandeln von CLOB nach NVARCHAR - Textmining-Paket unterstützt nur 5000 Zeichen\n",
    "df_text = df_newscorp.cast('TEXT', 'NVARCHAR(5000)')\n",
    "\n",
    "# Spalten umbenennen nach Vorgabe der Methode für Textklassifikation\n",
    "df_input_knn = df_text.select(('KEY','ID'),\n",
    "                                  ('TEXT','CONTENT'),\n",
    "                                  'CATEGORY')\n",
    "# Ausgabe der Daten zur Kontrolle\n",
    "df_input_knn.collect()"
   ]
  },
  {
   "cell_type": "code",
   "execution_count": null,
   "id": "61e7a37c-e69e-4bca-ba2e-1491378e55d4",
   "metadata": {},
   "outputs": [],
   "source": [
    "# Splitten der Dokumentenmenge\n",
    "\n",
    "# Referenzdokumente => die ersten 1000 Dokumente\n",
    "df_reference = df_input_knn.filter('ID <= 1000')\n",
    "# l_df_train.describe().collect()\n",
    "\n",
    "# Testdokumente => Zufällig 250 mit ID > 1000\n",
    "df_test = df_input_knn.filter('ID > 1000').head(250)\n",
    "\n",
    "# Zielvariable CATEGORY entfernen\n",
    "df_input_test = df_test.drop('CATEGORY')\n",
    "df_input_test.collect()"
   ]
  },
  {
   "cell_type": "markdown",
   "id": "cf5bc191-2a3d-4d50-ac1d-6d6532282757",
   "metadata": {},
   "source": [
    "## Aufruf der Klassifikationsfunktion "
   ]
  },
  {
   "cell_type": "code",
   "execution_count": null,
   "id": "6fa2436a-bb7e-45a5-9fca-3bbf5d343152",
   "metadata": {},
   "outputs": [],
   "source": [
    "# Aufruf der Textklassifikation\n",
    "from hana_ml.text.tm import text_classification\n",
    "res = text_classification( pred_data = df_input_test,\n",
    "                          ref_data  = df_reference,\n",
    "                          k_nearest_neighbours = 5,\n",
    "                          thread_ratio = 0.5 )\n",
    "\n",
    "res.select('ID','RANK','CATEGORY_VALUE','SCORE').collect()"
   ]
  },
  {
   "cell_type": "markdown",
   "id": "4bb2e5a9-0e09-4c75-a3d7-f05691eeb5ae",
   "metadata": {},
   "source": [
    "### Vergleich der prognostizierten und tatsächlichen Kategorie"
   ]
  },
  {
   "cell_type": "code",
   "execution_count": null,
   "id": "5a114835-0bc5-439f-9a46-b877206cad7f",
   "metadata": {},
   "outputs": [],
   "source": [
    "# Vergleich von Prognose und Ist\n",
    "# Prognose der Kategorie => Kategorie mit RANK = 1 selektieren\n",
    "res_predicted = res.filter('RANK = 1').select('ID','CATEGORY_VALUE','SCORE')\n",
    "\n",
    "compare = res_predicted.alias('RES').join( df_input_knn.alias('INP'),\n",
    "                                           condition = 'RES.ID = INP.ID',\n",
    "                                           how = 'inner',\n",
    "                                           select = [('RES.ID','KEY'),\n",
    "                                                     ('INP.CATEGORY','CAT_ACTUAL'),\n",
    "                                                     ('RES.CATEGORY_VALUE','CAT_PREDICTED'),\n",
    "                                                     ('RES.SCORE','SCORE')\n",
    "                                                     ])\n",
    "\n",
    "compare.sort(['KEY','CAT_ACTUAL']).collect()"
   ]
  },
  {
   "cell_type": "code",
   "execution_count": null,
   "id": "1657cc2b-24cd-47f0-a10f-bc40465da87f",
   "metadata": {},
   "outputs": [],
   "source": [
    "# Zählen der richtigen und falschen Klassifikationen\n",
    "compare_agg = compare.agg( \n",
    "    agg_list = [('count','KEY','col_count')] ,\n",
    "    group_by = ['CAT_ACTUAL','CAT_PREDICTED']).sort(['CAT_ACTUAL','CAT_PREDICTED'])\n",
    "\n",
    "compare_agg.collect()"
   ]
  },
  {
   "cell_type": "code",
   "execution_count": null,
   "id": "8befad6a-713a-4f9c-94f8-1a1f93c1b44e",
   "metadata": {},
   "outputs": [],
   "source": [
    "# Ergänzung: die Confusion Matrix berechnen\n",
    "compare_pivot = compare_agg.pivot_table( values = 'col_count', \n",
    "                         index = 'CAT_PREDICTED',\n",
    "                         columns = 'CAT_ACTUAL',\n",
    "                         aggfunc = 'SUM' )\n",
    "\n",
    "\n",
    "compare_pivot.select('CAT_PREDICTED','business',\n",
    "                     'entertainment',\n",
    "                     'politics',\n",
    "                     'sport',\n",
    "                     'tech').collect()"
   ]
  },
  {
   "cell_type": "code",
   "execution_count": null,
   "id": "b3b33429-cc99-4f30-9cbb-a25302200e9f",
   "metadata": {},
   "outputs": [],
   "source": [
    "connection.close()"
   ]
  },
  {
   "cell_type": "code",
   "execution_count": null,
   "id": "a3580d53",
   "metadata": {},
   "outputs": [],
   "source": []
  }
 ],
 "metadata": {
  "kernelspec": {
   "display_name": "Python 3",
   "language": "python",
   "name": "python3"
  },
  "language_info": {
   "codemirror_mode": {
    "name": "ipython",
    "version": 3
   },
   "file_extension": ".py",
   "mimetype": "text/x-python",
   "name": "python",
   "nbconvert_exporter": "python",
   "pygments_lexer": "ipython3",
   "version": "3.8.8"
  }
 },
 "nbformat": 4,
 "nbformat_minor": 5
}
