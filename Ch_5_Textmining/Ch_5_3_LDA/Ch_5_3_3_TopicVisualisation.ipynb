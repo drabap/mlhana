{
 "cells": [
  {
   "cell_type": "markdown",
   "id": "fb5efe3e-8994-4674-bf02-e35d9add27a2",
   "metadata": {},
   "source": [
    "# Themenverteilung visualisieren"
   ]
  },
  {
   "cell_type": "markdown",
   "id": "3f76e604-5483-43dd-aaaa-b079c4ed0c38",
   "metadata": {},
   "source": [
    "## Themenscores abrufen und pivotisieren"
   ]
  },
  {
   "cell_type": "code",
   "execution_count": null,
   "id": "95c5c6ce-0aa8-4c8a-980f-801351e2df9b",
   "metadata": {},
   "outputs": [],
   "source": [
    "# HANA-Dataframe mit Ergebnis der Themenextraktion\n",
    "# Vorausssetzung: LDA wurde HANA-seitig ausgeführt und Themenzuweisung ist in Tabelle ML_TEXT.PAL_LDA_DOCUMENT_TOPIC_DIST gespeichert\n",
    "\n",
    "from hana_ml import dataframe\n",
    "\n",
    "connection = dataframe.ConnectionContext( KEY = 'DEV')\n",
    "df = connection.table('PAL_LDA_DOCUMENT_TOPIC_DIST',\n",
    "                      schema = 'ML_TEXT')\n",
    "\n",
    "# Beispielausgabe\n",
    "df.sort(['KEY','TOPIC_ID']).head(20).collect()"
   ]
  },
  {
   "cell_type": "code",
   "execution_count": null,
   "id": "55ad60a8-981c-416d-ae93-cb8a796e1c66",
   "metadata": {},
   "outputs": [],
   "source": [
    "# Transponieren der Themenscores in Spalten\n",
    "topics_pivot = df.pivot_table( columns = 'TOPIC_ID',\n",
    "    values = 'PROBABILITY',\n",
    "    index = 'KEY',\n",
    "    aggfunc = 'AVG')\n",
    "\n",
    "topics_pivot.collect()"
   ]
  },
  {
   "cell_type": "markdown",
   "id": "4630467f-24d4-4972-8ebb-909adbc779c4",
   "metadata": {},
   "source": [
    "## Projizieren der Daten mit t-SNE "
   ]
  },
  {
   "cell_type": "code",
   "execution_count": null,
   "id": "0b4edf6c-0024-497d-a3cf-b379a72adcca",
   "metadata": {},
   "outputs": [],
   "source": [
    "# Anwenden des t-SNE-Algorithmus\n",
    "\n",
    "from hana_ml.algorithms.pal.tsne import TSNE\n",
    "\n",
    "tsne = TSNE(n_iter = 500,\n",
    "            random_state = 1,\n",
    "            n_components = 3,\n",
    "            angle = 0.0,\n",
    "            exaggeration = 20,\n",
    "            learning_rate = 200,\n",
    "            perplexity = 30,\n",
    "            object_frequency = 50,\n",
    "            thread_ratio = 0.5\n",
    "           )\n",
    "\n",
    "df_tsne_res, stats, obj = tsne.fit_predict(\n",
    "                                   data = topics_pivot, \n",
    "                                   key = 'KEY' )\n",
    "\n",
    "df_tsne_res.collect()"
   ]
  },
  {
   "cell_type": "code",
   "execution_count": null,
   "id": "230459c1-2e45-4ab5-ad4d-f8a05f82e961",
   "metadata": {},
   "outputs": [],
   "source": [
    "# Scatter Plot vom t-SNE-Ergebnis\n",
    "pd_res = df_tsne_res.collect()\n",
    "\n",
    "pd_res.plot( kind = 'scatter',  \n",
    "              x = 'x',\n",
    "              y = 'y',\n",
    "              c = 'z',\n",
    "              cmap = 'coolwarm' )"
   ]
  },
  {
   "cell_type": "markdown",
   "id": "00c2b55f-cf30-46ee-80cf-ddf2ac680965",
   "metadata": {},
   "source": [
    "## Zusatz: Clustern der projezierten Daten"
   ]
  },
  {
   "cell_type": "code",
   "execution_count": null,
   "id": "babd8c88",
   "metadata": {},
   "outputs": [],
   "source": [
    "# Clustern der projizierten Daten\n",
    "from hana_ml.algorithms.pal.clustering import DBSCAN\n",
    "\n",
    "dbscan = DBSCAN( minpts = 50,\n",
    "                 eps = 5,\n",
    "                 metric = 'euclidean' )\n",
    "\n",
    "# Clustering durchführen und Zuweisung zwischenspeichern\n",
    "df_cluster_assignment = dbscan.fit_predict( \n",
    "                                        data = df_tsne_res,\n",
    "                                        key = 'KEY' )\n",
    "\n",
    "\n",
    "# Cluster anzeigen:\n",
    "# Anzahl Sätze pro Cluster\n",
    "cluster_agg = df_cluster_assignment.agg( [\n",
    "                       ('count','KEY','COUNT_DOCS')\n",
    "                       ],\n",
    "                       group_by = ['CLUSTER_ID'] )\n",
    "\n",
    "# Zählen der Dokumente pro Cluster\n",
    "cluster_agg.sort(['CLUSTER_ID']).collect()\n",
    "\n",
    "# Optional: Ausgabe der Zuweisung pro Dokument\n",
    "#cluster_assignment.collect()"
   ]
  },
  {
   "cell_type": "code",
   "execution_count": null,
   "id": "0ccc83e7-5605-4677-bd8f-0c9494f984ff",
   "metadata": {},
   "outputs": [],
   "source": [
    "# JOIN zwischen t-SNE und Clusterzuweisung => Für jedes Dokument werden die projizierten Koordinaten und deren Clusterzuweisung in einer Tabelle zusammengeführt\n",
    "# Input: df_tsne_res, df_cluster_assignment\n",
    "\n",
    "df_cluster_assignment_1 = df_cluster_assignment.rename_columns({'KEY' : 'CLST_KEY'})\n",
    "df_tsne_with_cluster = df_tsne_res.alias('TSNE').join(other = df_cluster_assignment_1.alias('CLST'),\n",
    "                                                      condition = 'KEY = CLST_KEY' ).drop('CLST_KEY')\n",
    "\n",
    "df_tsne_with_cluster.collect()"
   ]
  },
  {
   "cell_type": "code",
   "execution_count": null,
   "id": "08846faa",
   "metadata": {},
   "outputs": [],
   "source": [
    "# Dokumente nach projizierten Features aus t-SNE mit Clusterzuweisung visualisieren\n",
    "# Input: df_tsne_with_cluster=> Koordinaten in 3D mit Cluster-Zuweisung\n",
    "\n",
    "pd_tsne_with_cluster = df_tsne_with_cluster.collect()\n",
    "\n",
    "pd_tsne_with_cluster['CLUSTER_ID'] = pd_tsne_with_cluster['CLUSTER_ID'].astype('category')\n",
    "pd_tsne_with_cluster['CLUSTER_ID'] = pd_tsne_with_cluster['CLUSTER_ID'].cat.codes\n",
    "\n",
    "pd_tsne_with_cluster.plot( kind = 'scatter', x = 'x', y = 'y',\n",
    "                                             c = 'CLUSTER_ID', cmap = 'tab20' )\n",
    "# Alternative CMAPS: tab10, tab20, tab20c\n"
   ]
  },
  {
   "cell_type": "code",
   "execution_count": null,
   "id": "3a6b3b8a",
   "metadata": {},
   "outputs": [],
   "source": [
    "connection.close()"
   ]
  },
  {
   "cell_type": "code",
   "execution_count": null,
   "id": "56156ffa",
   "metadata": {},
   "outputs": [],
   "source": []
  }
 ],
 "metadata": {
  "kernelspec": {
   "display_name": "Python 3",
   "language": "python",
   "name": "python3"
  },
  "language_info": {
   "codemirror_mode": {
    "name": "ipython",
    "version": 3
   },
   "file_extension": ".py",
   "mimetype": "text/x-python",
   "name": "python",
   "nbconvert_exporter": "python",
   "pygments_lexer": "ipython3",
   "version": "3.8.8"
  }
 },
 "nbformat": 4,
 "nbformat_minor": 5
}
